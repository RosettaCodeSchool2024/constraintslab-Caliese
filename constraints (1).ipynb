{
  "cells": [
    {
      "cell_type": "markdown",
      "metadata": {
        "id": "JGnkoiBg76jT"
      },
      "source": [
        "# Adding constraints derived from a structure"
      ]
    },
    {
      "cell_type": "code",
      "execution_count": 1,
      "metadata": {
        "id": "cc8EW4RO76jV",
        "colab": {
          "base_uri": "https://localhost:8080/"
        },
        "outputId": "2ccb8c95-55d5-47a5-8f6c-32370b96c812"
      },
      "outputs": [
        {
          "output_type": "stream",
          "name": "stdout",
          "text": [
            "Requirement already satisfied: pyrosettacolabsetup in /usr/local/lib/python3.10/dist-packages (1.0.9)\n",
            "Notebook is set for PyRosetta use in Colab.  Have fun!\n"
          ]
        }
      ],
      "source": [
        "# You have to rerun this cell each time you start a new notebook or do a \"factory reset\".\n",
        "import sys\n",
        "if 'google.colab' in sys.modules:\n",
        "    !pip install pyrosettacolabsetup\n",
        "    import pyrosettacolabsetup\n",
        "    pyrosettacolabsetup.mount_pyrosetta_install()\n",
        "    print (\"Notebook is set for PyRosetta use in Colab.  Have fun!\")"
      ]
    },
    {
      "cell_type": "markdown",
      "metadata": {
        "id": "VbSHZWC576jV"
      },
      "source": [
        "Now cd into the correct directory"
      ]
    },
    {
      "cell_type": "code",
      "execution_count": 2,
      "metadata": {
        "id": "3yLcUEMN76jV"
      },
      "outputs": [],
      "source": [
        "# cd into the correct directory\n",
        "!cd google_drive/MyDrive/CodeSchool2024/"
      ]
    },
    {
      "cell_type": "markdown",
      "metadata": {
        "id": "_svAo9zn76jV"
      },
      "source": [
        "We initialize PyRosetta without any command line options."
      ]
    },
    {
      "cell_type": "code",
      "execution_count": 3,
      "metadata": {
        "id": "ONRh4Dv276jW",
        "colab": {
          "base_uri": "https://localhost:8080/"
        },
        "outputId": "9c76d662-6ea7-4455-913e-eae0634c60a2"
      },
      "outputs": [
        {
          "output_type": "stream",
          "name": "stdout",
          "text": [
            "┌──────────────────────────────────────────────────────────────────────────────┐\n",
            "│                                 PyRosetta-4                                  │\n",
            "│              Created in JHU by Sergey Lyskov and PyRosetta Team              │\n",
            "│              (C) Copyright Rosetta Commons Member Institutions               │\n",
            "│                                                                              │\n",
            "│ NOTE: USE OF PyRosetta FOR COMMERCIAL PURPOSES REQUIRE PURCHASE OF A LICENSE │\n",
            "│         See LICENSE.PyRosetta.md or email license@uw.edu for details         │\n",
            "└──────────────────────────────────────────────────────────────────────────────┘\n",
            "PyRosetta-4 2024 [Rosetta PyRosetta4.MinSizeRel.python310.ubuntu 2024.19+release.a34b73c40fe9c61558d566d6a63f803cfb15a4fc 2024-05-02T16:22:03] retrieved from: http://www.pyrosetta.org\n",
            "core.init: Checking for fconfig files in pwd and ./rosetta/flags\n",
            "core.init: Rosetta version: PyRosetta4.MinSizeRel.python310.ubuntu r381 2024.19+release.a34b73c40f a34b73c40fe9c61558d566d6a63f803cfb15a4fc http://www.pyrosetta.org 2024-05-02T16:22:03\n",
            "core.init: Rosetta extras: []\n",
            "core.init: command: PyRosetta -ex1 -ex2aro -database /usr/local/lib/python3.10/dist-packages/pyrosetta/database\n",
            "basic.random.init_random_generator: 'RNG device' seed mode, using '/dev/urandom', seed=-1121179768 seed_offset=0 real_seed=-1121179768\n",
            "basic.random.init_random_generator: RandomGenerator:init: Normal mode, seed=-1121179768 RG_type=mt19937\n"
          ]
        }
      ],
      "source": [
        "from pyrosetta import *\n",
        "init()"
      ]
    },
    {
      "cell_type": "markdown",
      "metadata": {
        "id": "Zk9UeNgc76jW"
      },
      "source": [
        "Initiliazing pose and score function."
      ]
    },
    {
      "cell_type": "code",
      "execution_count": 4,
      "metadata": {
        "id": "HRlmJa9P76jW",
        "colab": {
          "base_uri": "https://localhost:8080/"
        },
        "outputId": "a272332a-29fb-4b2c-d2e6-6dd50bafacb0"
      },
      "outputs": [
        {
          "output_type": "stream",
          "name": "stdout",
          "text": [
            "core.chemical.GlobalResidueTypeSet: Finished initializing fa_standard residue type set.  Created 985 residue types\n",
            "core.chemical.GlobalResidueTypeSet: Total time to initialize 1.32329 seconds.\n",
            "core.import_pose.import_pose: File 'google_drive/MyDrive/CodeSchool2024/inputs/1ubq.pdb' automatically determined to be of type PDB\n",
            "core.scoring.ScoreFunctionFactory: SCOREFUNCTION: ref2015\n",
            "core.scoring.etable: Starting energy table calculation\n",
            "core.scoring.etable: smooth_etable: changing atr/rep split to bottom of energy well\n",
            "core.scoring.etable: smooth_etable: spline smoothing lj etables (maxdis = 6)\n",
            "core.scoring.etable: smooth_etable: spline smoothing solvation etables (max_dis = 6)\n",
            "core.scoring.etable: Finished calculating energy tables.\n",
            "basic.io.database: Database file opened: scoring/score_functions/hbonds/ref2015_params/HBPoly1D.csv\n",
            "basic.io.database: Database file opened: scoring/score_functions/hbonds/ref2015_params/HBFadeIntervals.csv\n",
            "basic.io.database: Database file opened: scoring/score_functions/hbonds/ref2015_params/HBEval.csv\n",
            "basic.io.database: Database file opened: scoring/score_functions/hbonds/ref2015_params/DonStrength.csv\n",
            "basic.io.database: Database file opened: scoring/score_functions/hbonds/ref2015_params/AccStrength.csv\n",
            "basic.io.database: Database file opened: scoring/score_functions/rama/fd/all.ramaProb\n",
            "basic.io.database: Database file opened: scoring/score_functions/rama/fd/prepro.ramaProb\n",
            "basic.io.database: Database file opened: scoring/score_functions/omega/omega_ppdep.all.txt\n",
            "basic.io.database: Database file opened: scoring/score_functions/omega/omega_ppdep.gly.txt\n",
            "basic.io.database: Database file opened: scoring/score_functions/omega/omega_ppdep.pro.txt\n",
            "basic.io.database: Database file opened: scoring/score_functions/omega/omega_ppdep.valile.txt\n",
            "basic.io.database: Database file opened: scoring/score_functions/P_AA_pp/P_AA\n",
            "basic.io.database: Database file opened: scoring/score_functions/P_AA_pp/P_AA_n\n",
            "core.scoring.P_AA: shapovalov_lib::shap_p_aa_pp_smooth_level of 1( aka low_smooth ) got activated.\n",
            "basic.io.database: Database file opened: scoring/score_functions/P_AA_pp/shapovalov/10deg/kappa131/a20.prop\n",
            "basic.io.database: Database file opened: scoring/score_functions/elec_cp_reps.dat\n",
            "core.scoring.elec.util: Read 40 countpair representative atoms\n",
            "core.pack.dunbrack.RotamerLibrary: shapovalov_lib_fixes_enable option is true.\n",
            "core.pack.dunbrack.RotamerLibrary: shapovalov_lib::shap_dun10_smooth_level of 1( aka lowest_smooth ) got activated.\n",
            "core.pack.dunbrack.RotamerLibrary: Binary rotamer library selected: /usr/local/lib/python3.10/dist-packages/pyrosetta/database/rotamer/shapovalov/StpDwn_0-0-0/Dunbrack10.lib.bin\n",
            "core.pack.dunbrack.RotamerLibrary: Using Dunbrack library binary file '/usr/local/lib/python3.10/dist-packages/pyrosetta/database/rotamer/shapovalov/StpDwn_0-0-0/Dunbrack10.lib.bin'.\n",
            "core.pack.dunbrack.RotamerLibrary: Dunbrack 2010 library took 0.617208 seconds to load from binary\n"
          ]
        },
        {
          "output_type": "execute_result",
          "data": {
            "text/plain": [
              "32.67775371933962"
            ]
          },
          "metadata": {},
          "execution_count": 4
        }
      ],
      "source": [
        "# initialize the pose with the 1ubq.pbd, initialize the full atom ref2015 score function, and score your pose\n",
        "\n",
        "# YOUR CODE HERE (initialize pose)\n",
        "pose = pyrosetta.pose_from_file(\"google_drive/MyDrive/CodeSchool2024/inputs/1ubq.pdb\")\n",
        "\n",
        "# YOUR CODE HERE (get score function)\n",
        "sfxn = get_score_function(True)\n",
        "\n",
        "# YOUR CODE HERE (score pose)\n",
        "sfxn(pose)"
      ]
    },
    {
      "cell_type": "markdown",
      "metadata": {
        "id": "f9vfriLT76jW"
      },
      "source": [
        "Let's prime the score function with a constraint score term. Let's also print out the score before we've added any constraints to the pose so we can refer back to it later."
      ]
    },
    {
      "cell_type": "code",
      "execution_count": 5,
      "metadata": {
        "id": "FertVJ_M76jW",
        "colab": {
          "base_uri": "https://localhost:8080/"
        },
        "outputId": "7a7eccf3-d67d-4cd9-9649-8f6122cb151e"
      },
      "outputs": [
        {
          "output_type": "stream",
          "name": "stdout",
          "text": [
            "core.scoring.ScoreFunction: \n",
            "------------------------------------------------------------\n",
            " Scores                       Weight   Raw Score Wghtd.Score\n",
            "------------------------------------------------------------\n",
            " fa_atr                       1.000    -397.647    -397.647\n",
            " fa_rep                       0.550     103.707      57.039\n",
            " fa_sol                       1.000     242.952     242.952\n",
            " fa_intra_rep                 0.005     355.469       1.777\n",
            " fa_intra_sol_xover4          1.000      16.826      16.826\n",
            " lk_ball_wtd                  1.000      -8.756      -8.756\n",
            " fa_elec                      1.000    -113.091    -113.091\n",
            " pro_close                    1.250       1.906       2.383\n",
            " hbond_sr_bb                  1.000     -18.828     -18.828\n",
            " hbond_lr_bb                  1.000     -23.132     -23.132\n",
            " hbond_bb_sc                  1.000      -7.389      -7.389\n",
            " hbond_sc                     1.000      -1.549      -1.549\n",
            " dslf_fa13                    1.250       0.000       0.000\n",
            " atom_pair_constraint         1.000       0.000       0.000\n",
            " omega                        0.400       4.284       1.713\n",
            " fa_dun                       0.700     412.284     288.599\n",
            " p_aa_pp                      0.600     -21.346     -12.808\n",
            " yhh_planarity                0.625       0.000       0.000\n",
            " ref                          1.000      11.884      11.884\n",
            " rama_prepro                  0.450     -16.216      -7.297\n",
            "---------------------------------------------------\n",
            " Total weighted score:                       32.678\n"
          ]
        }
      ],
      "source": [
        "from pyrosetta.rosetta.core.scoring import *\n",
        "\n",
        "# set the weight of the atom_pair_constraint to be 1\n",
        "# YOUR CODE HERE\n",
        "sfxn.set_weight(atom_pair_constraint, 1)\n",
        "# use sfxn.show to show the score function breakdown of the pose\n",
        "\n",
        "# YOUR CODE HERE\n",
        "sfxn.show(pose)"
      ]
    },
    {
      "cell_type": "markdown",
      "source": [
        "What is the weight of the atom_pair_constraint? what is the raw score of the atom_pair_constraint? Why?\n",
        "\n",
        "YOUR ANSWER HERE:\n",
        "it is 1. the raw score is 0 because we haven't actually added the weight yet."
      ],
      "metadata": {
        "id": "pwEyLaXdLh7A"
      }
    },
    {
      "cell_type": "markdown",
      "metadata": {
        "id": "PGSVd5oz76jW"
      },
      "source": [
        "To define where the constraints need to be applied, we will need to use residue selectors. Let's use a `LayerSelector` to select the surface residues."
      ]
    },
    {
      "cell_type": "code",
      "execution_count": 9,
      "metadata": {
        "id": "F7T82Ldy76jW",
        "colab": {
          "base_uri": "https://localhost:8080/"
        },
        "outputId": "b130d9fc-30cc-45e5-f33c-c98ae34629e5"
      },
      "outputs": [
        {
          "output_type": "stream",
          "name": "stdout",
          "text": [
            "core.select.residue_selector.LayerSelector: Setting LayerSelector to use sidechain neighbors to determine burial.\n",
            "core.select.residue_selector.LayerSelector: Set cutoffs for core and surface to 5.2 and 2, respectively, in LayerSelector.\n",
            "core.select.residue_selector.LayerSelector: Setting core=false boundary=false surface=true in LayerSelector.\n"
          ]
        }
      ],
      "source": [
        "from pyrosetta.rosetta.core.select.residue_selector import *\n",
        "surface_res = LayerSelector()\n",
        "\n",
        "# use surface_res.set_layers? to determine how to select only the surface residues\n",
        "\n",
        "# YOUR CODE HERE (select the surface residues\n",
        "surface_res.set_layers(False, False, True)"
      ]
    },
    {
      "cell_type": "markdown",
      "metadata": {
        "id": "v8gyGi0Z76jW"
      },
      "source": [
        "To check which residues are selected on the pose, we can apply it. `1` means that the residue has been selected, `0` means that it has not.\n",
        "\n",
        "What residues have been selected?\n",
        "\n",
        "YOUR ANSWER HERE: only the surface residues have been selected."
      ]
    },
    {
      "cell_type": "code",
      "execution_count": 10,
      "metadata": {
        "id": "mS9HN5m876jW",
        "colab": {
          "base_uri": "https://localhost:8080/"
        },
        "outputId": "6fc2e92c-242a-4a36-a4ce-94ca1c1dc1fc"
      },
      "outputs": [
        {
          "output_type": "execute_result",
          "data": {
            "text/plain": [
              "vector1_bool[0, 1, 0, 1, 0, 1, 1, 1, 1, 1, 1, 1, 0, 1, 0, 1, 0, 1, 1, 1, 0, 1, 0, 1, 0, 0, 0, 1, 0, 0, 1, 1, 0, 0, 1, 0, 1, 0, 1, 1, 0, 1, 0, 1, 0, 1, 1, 1, 1, 0, 1, 1, 1, 0, 1, 0, 1, 0, 0, 1, 0, 1, 1, 1, 0, 1, 0, 1, 0, 1, 1, 1, 1, 1, 1, 1]"
            ]
          },
          "metadata": {},
          "execution_count": 10
        }
      ],
      "source": [
        "surface_res.apply(pose)"
      ]
    },
    {
      "cell_type": "markdown",
      "metadata": {
        "id": "UtkjkCkG76jX"
      },
      "source": [
        "Now let's create atom pair constraints. For this, we use `AtomPairConstraintGenerator`. **By default, it uses the Sum Of Gaussians function to score the distances between atoms.** The \"sum\" part is not really used, because there is just one gaussian. This gaussian turns a distance into a probability, `prob`, and the energy is taken as the `-ln(prob)`.   We will pass the residue selector to the generator, set the maximum distance at under which it will create atom pair constraints (5.0 Ang), the standard deviation of the gaussians, and set the constraints to only be generated between pairs of C-alpha atoms."
      ]
    },
    {
      "cell_type": "code",
      "execution_count": 12,
      "metadata": {
        "id": "TtdKvSw176jX"
      },
      "outputs": [],
      "source": [
        "from pyrosetta.rosetta.protocols.constraint_generator import *\n",
        "apcg = AtomPairConstraintGenerator()\n",
        "\n",
        "# use the set_residue_selector method of apcg to set the residue selector to be our surface_res selector above\n",
        "# YOUR CODE HERE\n",
        "apcg.set_residue_selector(surface_res)\n",
        "\n",
        "\n",
        "# use the set_max_distance method of apcg to set the max distance to be 5.0\n",
        "# YOUR CODE HERE\n",
        "apcg.set_max_distance(5.0)\n",
        "\n",
        "# use set_sd to set the standard deviation of the gaussian to be 1\n",
        "# YOUR CODE HERE\n",
        "apcg.set_sd(1)\n",
        "\n",
        "# we will only look at atom pair constraints for the carbon alpha atoms. we do this by using:\n",
        "apcg.set_ca_only(True)"
      ]
    },
    {
      "cell_type": "markdown",
      "metadata": {
        "id": "3faAN5x376jX"
      },
      "source": [
        "While we could directly apply the `AtomPairConstraintGenerator` to the pose, the recommended method is to add it to an `AddConstraints` object. Multiple constraint generators can be added to this. We then apply all the constraints."
      ]
    },
    {
      "cell_type": "code",
      "execution_count": 13,
      "metadata": {
        "id": "WEtjF9HN76jX",
        "colab": {
          "base_uri": "https://localhost:8080/"
        },
        "outputId": "1bf96271-056a-4b40-980b-117d934fff8c"
      },
      "outputs": [
        {
          "output_type": "stream",
          "name": "stdout",
          "text": [
            "protocols.constraint_generator.AddConstraints: Adding 9 constraints generated by ConstraintGenerator named unnamed_constraint_generator\n"
          ]
        }
      ],
      "source": [
        "add_csts = AddConstraints()\n",
        "add_csts.add_generator(apcg)\n",
        "add_csts.apply(pose)"
      ]
    },
    {
      "cell_type": "markdown",
      "metadata": {
        "id": "bA5MJ7Dn76jX"
      },
      "source": [
        "Let's check if the constraints were applied."
      ]
    },
    {
      "cell_type": "code",
      "execution_count": 14,
      "metadata": {
        "id": "eHzqUy8d76jX",
        "colab": {
          "base_uri": "https://localhost:8080/"
        },
        "outputId": "0822347a-11b2-4b5b-8511-4377101d5313"
      },
      "outputs": [
        {
          "output_type": "stream",
          "name": "stdout",
          "text": [
            "core.scoring.ScoreFunction: \n",
            "------------------------------------------------------------\n",
            " Scores                       Weight   Raw Score Wghtd.Score\n",
            "------------------------------------------------------------\n",
            " fa_atr                       1.000    -397.647    -397.647\n",
            " fa_rep                       0.550     103.707      57.039\n",
            " fa_sol                       1.000     242.952     242.952\n",
            " fa_intra_rep                 0.005     355.469       1.777\n",
            " fa_intra_sol_xover4          1.000      16.826      16.826\n",
            " lk_ball_wtd                  1.000      -8.756      -8.756\n",
            " fa_elec                      1.000    -113.091    -113.091\n",
            " pro_close                    1.250       1.906       2.383\n",
            " hbond_sr_bb                  1.000     -18.828     -18.828\n",
            " hbond_lr_bb                  1.000     -23.132     -23.132\n",
            " hbond_bb_sc                  1.000      -7.389      -7.389\n",
            " hbond_sc                     1.000      -1.549      -1.549\n",
            " dslf_fa13                    1.250       0.000       0.000\n",
            " atom_pair_constraint         1.000    -129.503    -129.503\n",
            " omega                        0.400       4.284       1.713\n",
            " fa_dun                       0.700     412.284     288.599\n",
            " p_aa_pp                      0.600     -21.346     -12.808\n",
            " yhh_planarity                0.625       0.000       0.000\n",
            " ref                          1.000      11.884      11.884\n",
            " rama_prepro                  0.450     -16.216      -7.297\n",
            "---------------------------------------------------\n",
            " Total weighted score:                      -96.825\n"
          ]
        }
      ],
      "source": [
        "# use sfxn.show to see if the constraints were applied\n",
        "\n",
        "# YOUR CODE HERE\n",
        "sfxn.show(pose)"
      ]
    },
    {
      "cell_type": "markdown",
      "source": [
        "What is the raw score and weighted score of the atom_pair_constraint?\n",
        "\n",
        "YOUR ANSWER HERE: raw score and the weighted score is -129.503"
      ],
      "metadata": {
        "id": "6w2yYyhTNDLa"
      }
    },
    {
      "cell_type": "markdown",
      "metadata": {
        "id": "bnmLdenR76jX"
      },
      "source": [
        "The sum of gaussians function acts more like a reward. A large neagtive number indicates that all 9 constraints were satisfied. What happens when we disrupt some surface interactions in a perturbed structure?"
      ]
    },
    {
      "cell_type": "code",
      "execution_count": 15,
      "metadata": {
        "id": "mwQpNmrn76jX"
      },
      "outputs": [],
      "source": [
        "pose_perturbed = pose.clone()  # copy the conformation and the constraints\n",
        "\n",
        "# set the phi and psi angles of residue 25 to be -130, and 145, respectively\n",
        "\n",
        "# YOUR CODE HERE\n",
        "pose.set_phi(25, -130)\n",
        "pose.set_psi(25, 145)"
      ]
    },
    {
      "cell_type": "code",
      "execution_count": 16,
      "metadata": {
        "id": "BbcytoBi76jX",
        "colab": {
          "base_uri": "https://localhost:8080/"
        },
        "outputId": "e2759ad3-68f4-4c9b-9f95-fb57e0854376"
      },
      "outputs": [
        {
          "output_type": "stream",
          "name": "stdout",
          "text": [
            "core.scoring.ScoreFunction: \n",
            "------------------------------------------------------------\n",
            " Scores                       Weight   Raw Score Wghtd.Score\n",
            "------------------------------------------------------------\n",
            " fa_atr                       1.000    -575.051    -575.051\n",
            " fa_rep                       0.550   55367.773   30452.275\n",
            " fa_sol                       1.000     413.031     413.031\n",
            " fa_intra_rep                 0.005     355.301       1.777\n",
            " fa_intra_sol_xover4          1.000      16.485      16.485\n",
            " lk_ball_wtd                  1.000     -16.198     -16.198\n",
            " fa_elec                      1.000     -84.545     -84.545\n",
            " pro_close                    1.250       1.906       2.383\n",
            " hbond_sr_bb                  1.000     -15.276     -15.276\n",
            " hbond_lr_bb                  1.000     -13.621     -13.621\n",
            " hbond_bb_sc                  1.000      -7.087      -7.087\n",
            " hbond_sc                     1.000      -2.165      -2.165\n",
            " dslf_fa13                    1.250       0.000       0.000\n",
            " atom_pair_constraint         1.000     -63.617     -63.617\n",
            " omega                        0.400       4.164       1.665\n",
            " fa_dun                       0.700     413.041     289.129\n",
            " p_aa_pp                      0.600     -21.221     -12.733\n",
            " yhh_planarity                0.625       0.000       0.000\n",
            " ref                          1.000      11.884      11.884\n",
            " rama_prepro                  0.450     -15.873      -7.143\n",
            "---------------------------------------------------\n",
            " Total weighted score:                    30391.195\n"
          ]
        }
      ],
      "source": [
        "# show the score breakdown\n",
        "\n",
        "# YOUR CODE HERE\n",
        "sfxn.show(pose)"
      ]
    },
    {
      "cell_type": "markdown",
      "source": [
        "What is the atom_pair_constraint raw score now?\n",
        "\n",
        "YOUR ANSWER HERE:"
      ],
      "metadata": {
        "id": "y9bUfpa-NZCU"
      }
    },
    {
      "cell_type": "markdown",
      "metadata": {
        "id": "9vpC0JLM76jX"
      },
      "source": [
        "The reward is much smaller owing to the perturbation of the pose."
      ]
    }
  ],
  "metadata": {
    "kernelspec": {
      "display_name": "Python 3",
      "language": "python",
      "name": "python3"
    },
    "language_info": {
      "codemirror_mode": {
        "name": "ipython",
        "version": 3
      },
      "file_extension": ".py",
      "mimetype": "text/x-python",
      "name": "python",
      "nbconvert_exporter": "python",
      "pygments_lexer": "ipython3",
      "version": "3.7.7"
    },
    "colab": {
      "provenance": []
    }
  },
  "nbformat": 4,
  "nbformat_minor": 0
}